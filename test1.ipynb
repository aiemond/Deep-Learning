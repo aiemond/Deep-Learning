{
 "cells": [
  {
   "cell_type": "code",
   "execution_count": 43,
   "id": "4c06e295",
   "metadata": {},
   "outputs": [],
   "source": [
    "from pytorch_tabnet.tab_model import TabNetRegressor\n",
    "\n",
    "import torch\n",
    "from sklearn.preprocessing import LabelEncoder\n",
    "from sklearn.metrics import mean_squared_error\n",
    "\n",
    "import pandas as pd\n",
    "import numpy as np\n",
    "np.random.seed(0)\n",
    "\n",
    "\n",
    "import os\n",
    "import wget\n",
    "from pathlib import Path"
   ]
  },
  {
   "cell_type": "code",
   "execution_count": 8,
   "id": "8e08a64a",
   "metadata": {},
   "outputs": [],
   "source": [
    "import os\n",
    "os.environ['CUDA_VISIBLE_DEVICES'] = f\"1\""
   ]
  },
  {
   "cell_type": "code",
   "execution_count": 9,
   "id": "a1d94fa3",
   "metadata": {},
   "outputs": [
    {
     "data": {
      "text/plain": [
       "'1.12.1'"
      ]
     },
     "execution_count": 9,
     "metadata": {},
     "output_type": "execute_result"
    }
   ],
   "source": [
    "import torch\n",
    "torch.__version__"
   ]
  },
  {
   "cell_type": "code",
   "execution_count": 10,
   "id": "9e2a9583",
   "metadata": {},
   "outputs": [],
   "source": [
    "url = \"https://archive.ics.uci.edu/ml/machine-learning-databases/adult/adult.data\"\n",
    "dataset_name = 'census-income'\n",
    "out = Path(os.getcwd()+'/data/'+dataset_name+'.csv')"
   ]
  },
  {
   "cell_type": "code",
   "execution_count": 11,
   "id": "18789556",
   "metadata": {},
   "outputs": [
    {
     "name": "stdout",
     "output_type": "stream",
     "text": [
      "Downloading file...\n"
     ]
    }
   ],
   "source": [
    "out.parent.mkdir(parents=True, exist_ok=True)\n",
    "if out.exists():\n",
    "    print(\"File already exists.\")\n",
    "else:\n",
    "    print(\"Downloading file...\")\n",
    "    wget.download(url, out.as_posix())\n",
    "\n"
   ]
  },
  {
   "cell_type": "code",
   "execution_count": 12,
   "id": "37c8f94b",
   "metadata": {},
   "outputs": [],
   "source": [
    "census_income = pd.read_csv(out)"
   ]
  },
  {
   "cell_type": "code",
   "execution_count": 13,
   "id": "6d46b0c2",
   "metadata": {},
   "outputs": [
    {
     "data": {
      "text/plain": [
       "(32560, 15)"
      ]
     },
     "execution_count": 13,
     "metadata": {},
     "output_type": "execute_result"
    }
   ],
   "source": [
    "census_income.shape"
   ]
  },
  {
   "cell_type": "code",
   "execution_count": 14,
   "id": "19f92f96",
   "metadata": {},
   "outputs": [
    {
     "data": {
      "text/html": [
       "<div>\n",
       "<style scoped>\n",
       "    .dataframe tbody tr th:only-of-type {\n",
       "        vertical-align: middle;\n",
       "    }\n",
       "\n",
       "    .dataframe tbody tr th {\n",
       "        vertical-align: top;\n",
       "    }\n",
       "\n",
       "    .dataframe thead th {\n",
       "        text-align: right;\n",
       "    }\n",
       "</style>\n",
       "<table border=\"1\" class=\"dataframe\">\n",
       "  <thead>\n",
       "    <tr style=\"text-align: right;\">\n",
       "      <th></th>\n",
       "      <th>39</th>\n",
       "      <th>State-gov</th>\n",
       "      <th>77516</th>\n",
       "      <th>Bachelors</th>\n",
       "      <th>13</th>\n",
       "      <th>Never-married</th>\n",
       "      <th>Adm-clerical</th>\n",
       "      <th>Not-in-family</th>\n",
       "      <th>White</th>\n",
       "      <th>Male</th>\n",
       "      <th>2174</th>\n",
       "      <th>0</th>\n",
       "      <th>40</th>\n",
       "      <th>United-States</th>\n",
       "      <th>&lt;=50K</th>\n",
       "    </tr>\n",
       "  </thead>\n",
       "  <tbody>\n",
       "    <tr>\n",
       "      <th>0</th>\n",
       "      <td>50</td>\n",
       "      <td>Self-emp-not-inc</td>\n",
       "      <td>83311</td>\n",
       "      <td>Bachelors</td>\n",
       "      <td>13</td>\n",
       "      <td>Married-civ-spouse</td>\n",
       "      <td>Exec-managerial</td>\n",
       "      <td>Husband</td>\n",
       "      <td>White</td>\n",
       "      <td>Male</td>\n",
       "      <td>0</td>\n",
       "      <td>0</td>\n",
       "      <td>13</td>\n",
       "      <td>United-States</td>\n",
       "      <td>&lt;=50K</td>\n",
       "    </tr>\n",
       "    <tr>\n",
       "      <th>1</th>\n",
       "      <td>38</td>\n",
       "      <td>Private</td>\n",
       "      <td>215646</td>\n",
       "      <td>HS-grad</td>\n",
       "      <td>9</td>\n",
       "      <td>Divorced</td>\n",
       "      <td>Handlers-cleaners</td>\n",
       "      <td>Not-in-family</td>\n",
       "      <td>White</td>\n",
       "      <td>Male</td>\n",
       "      <td>0</td>\n",
       "      <td>0</td>\n",
       "      <td>40</td>\n",
       "      <td>United-States</td>\n",
       "      <td>&lt;=50K</td>\n",
       "    </tr>\n",
       "    <tr>\n",
       "      <th>2</th>\n",
       "      <td>53</td>\n",
       "      <td>Private</td>\n",
       "      <td>234721</td>\n",
       "      <td>11th</td>\n",
       "      <td>7</td>\n",
       "      <td>Married-civ-spouse</td>\n",
       "      <td>Handlers-cleaners</td>\n",
       "      <td>Husband</td>\n",
       "      <td>Black</td>\n",
       "      <td>Male</td>\n",
       "      <td>0</td>\n",
       "      <td>0</td>\n",
       "      <td>40</td>\n",
       "      <td>United-States</td>\n",
       "      <td>&lt;=50K</td>\n",
       "    </tr>\n",
       "    <tr>\n",
       "      <th>3</th>\n",
       "      <td>28</td>\n",
       "      <td>Private</td>\n",
       "      <td>338409</td>\n",
       "      <td>Bachelors</td>\n",
       "      <td>13</td>\n",
       "      <td>Married-civ-spouse</td>\n",
       "      <td>Prof-specialty</td>\n",
       "      <td>Wife</td>\n",
       "      <td>Black</td>\n",
       "      <td>Female</td>\n",
       "      <td>0</td>\n",
       "      <td>0</td>\n",
       "      <td>40</td>\n",
       "      <td>Cuba</td>\n",
       "      <td>&lt;=50K</td>\n",
       "    </tr>\n",
       "    <tr>\n",
       "      <th>4</th>\n",
       "      <td>37</td>\n",
       "      <td>Private</td>\n",
       "      <td>284582</td>\n",
       "      <td>Masters</td>\n",
       "      <td>14</td>\n",
       "      <td>Married-civ-spouse</td>\n",
       "      <td>Exec-managerial</td>\n",
       "      <td>Wife</td>\n",
       "      <td>White</td>\n",
       "      <td>Female</td>\n",
       "      <td>0</td>\n",
       "      <td>0</td>\n",
       "      <td>40</td>\n",
       "      <td>United-States</td>\n",
       "      <td>&lt;=50K</td>\n",
       "    </tr>\n",
       "  </tbody>\n",
       "</table>\n",
       "</div>"
      ],
      "text/plain": [
       "   39          State-gov   77516   Bachelors   13        Never-married  \\\n",
       "0  50   Self-emp-not-inc   83311   Bachelors   13   Married-civ-spouse   \n",
       "1  38            Private  215646     HS-grad    9             Divorced   \n",
       "2  53            Private  234721        11th    7   Married-civ-spouse   \n",
       "3  28            Private  338409   Bachelors   13   Married-civ-spouse   \n",
       "4  37            Private  284582     Masters   14   Married-civ-spouse   \n",
       "\n",
       "         Adm-clerical   Not-in-family   White     Male   2174   0   40  \\\n",
       "0     Exec-managerial         Husband   White     Male      0   0   13   \n",
       "1   Handlers-cleaners   Not-in-family   White     Male      0   0   40   \n",
       "2   Handlers-cleaners         Husband   Black     Male      0   0   40   \n",
       "3      Prof-specialty            Wife   Black   Female      0   0   40   \n",
       "4     Exec-managerial            Wife   White   Female      0   0   40   \n",
       "\n",
       "    United-States   <=50K  \n",
       "0   United-States   <=50K  \n",
       "1   United-States   <=50K  \n",
       "2   United-States   <=50K  \n",
       "3            Cuba   <=50K  \n",
       "4   United-States   <=50K  "
      ]
     },
     "execution_count": 14,
     "metadata": {},
     "output_type": "execute_result"
    }
   ],
   "source": [
    "census_income.head()"
   ]
  },
  {
   "cell_type": "code",
   "execution_count": 15,
   "id": "f756fca5",
   "metadata": {},
   "outputs": [],
   "source": [
    "train = pd.read_csv(out)\n",
    "target = ' <=50K'\n",
    "if \"Set\" not in train.columns:\n",
    "    train[\"Set\"] = np.random.choice([\"train\", \"valid\", \"test\"], p =[.8, .1, .1], size=(train.shape[0],))\n",
    "\n",
    "train_indices = train[train.Set==\"train\"].index\n",
    "valid_indices = train[train.Set==\"valid\"].index\n",
    "test_indices = train[train.Set==\"test\"].index\n",
    "\n"
   ]
  },
  {
   "cell_type": "code",
   "execution_count": 16,
   "id": "4c7b61d5",
   "metadata": {},
   "outputs": [
    {
     "name": "stdout",
     "output_type": "stream",
     "text": [
      " State-gov 9\n",
      " Bachelors 16\n",
      " Never-married 7\n",
      " Adm-clerical 15\n",
      " Not-in-family 6\n",
      " White 5\n",
      " Male 2\n",
      " United-States 42\n",
      " <=50K 2\n",
      "Set 3\n"
     ]
    }
   ],
   "source": [
    "categorical_columns = []\n",
    "categorical_dims =  {}\n",
    "for col in train.columns[train.dtypes == object]:\n",
    "    print(col, train[col].nunique())\n",
    "    l_enc = LabelEncoder()\n",
    "    train[col] = train[col].fillna(\"VV_likely\")\n",
    "    train[col] = l_enc.fit_transform(train[col].values)\n",
    "    categorical_columns.append(col)\n",
    "    categorical_dims[col] = len(l_enc.classes_)\n",
    "\n",
    "for col in train.columns[train.dtypes == 'float64']:\n",
    "    train.fillna(train.loc[train_indices, col].mean(), inplace=True)"
   ]
  },
  {
   "cell_type": "code",
   "execution_count": 17,
   "id": "30910e08",
   "metadata": {},
   "outputs": [],
   "source": [
    "unused_feat = ['Set']\n",
    "\n",
    "features = [ col for col in train.columns if col not in unused_feat+[target]] \n",
    "\n",
    "cat_idxs = [ i for i, f in enumerate(features) if f in categorical_columns]\n",
    "\n",
    "cat_dims = [ categorical_dims[f] for i, f in enumerate(features) if f in categorical_columns]\n",
    "\n",
    "# define your embedding sizes : here just a random choice\n",
    "cat_emb_dim = [5, 4, 3, 6, 2, 2, 1, 10]\n",
    "\n"
   ]
  },
  {
   "cell_type": "code",
   "execution_count": 19,
   "id": "aebd0e69",
   "metadata": {},
   "outputs": [],
   "source": [
    "from pytorch_tabnet.tab_model import TabNetRegressor"
   ]
  },
  {
   "cell_type": "code",
   "execution_count": 20,
   "id": "4b193c7a",
   "metadata": {},
   "outputs": [
    {
     "name": "stderr",
     "output_type": "stream",
     "text": [
      "C:\\Users\\ashik.emon\\AppData\\Local\\anaconda3\\lib\\site-packages\\pytorch_tabnet\\abstract_model.py:75: UserWarning: Device used : cpu\n",
      "  warnings.warn(f\"Device used : {self.device}\")\n"
     ]
    }
   ],
   "source": [
    "clf = TabNetRegressor(cat_dims=cat_dims, cat_emb_dim=cat_emb_dim, cat_idxs=cat_idxs)"
   ]
  },
  {
   "cell_type": "code",
   "execution_count": 21,
   "id": "59d9b215",
   "metadata": {},
   "outputs": [],
   "source": [
    "X_train = train[features].values[train_indices]\n",
    "y_train = train[target].values[train_indices].reshape(-1, 1)\n",
    "\n",
    "X_valid = train[features].values[valid_indices]\n",
    "y_valid = train[target].values[valid_indices].reshape(-1, 1)\n",
    "\n",
    "X_test = train[features].values[test_indices]\n",
    "y_test = train[target].values[test_indices].reshape(-1, 1)\n",
    "\n"
   ]
  },
  {
   "cell_type": "code",
   "execution_count": 22,
   "id": "251e51ac",
   "metadata": {},
   "outputs": [],
   "source": [
    "max_epochs = 100 if not os.getenv(\"CI\", False) else 2"
   ]
  },
  {
   "cell_type": "code",
   "execution_count": 23,
   "id": "88719352",
   "metadata": {},
   "outputs": [],
   "source": [
    "from pytorch_tabnet.augmentations import RegressionSMOTE\n",
    "aug = RegressionSMOTE(p=0.2)"
   ]
  },
  {
   "cell_type": "code",
   "execution_count": 24,
   "id": "6ba08857",
   "metadata": {},
   "outputs": [
    {
     "name": "stdout",
     "output_type": "stream",
     "text": [
      "epoch 0  | loss: 0.16527 | train_rmsle: 0.09161 | train_mae: 0.37027 | train_rmse: 0.71539 | train_mse: 0.51179 | valid_rmsle: 0.09359 | valid_mae: 0.37648 | valid_rmse: 0.78013 | valid_mse: 0.60861 |  0:00:04s\n",
      "epoch 1  | loss: 0.1305  | train_rmsle: 0.11043 | train_mae: 0.38239 | train_rmse: 0.4569  | train_mse: 0.20876 | valid_rmsle: 0.10932 | valid_mae: 0.38163 | valid_rmse: 0.4544  | valid_mse: 0.20648 |  0:00:10s\n",
      "epoch 2  | loss: 0.12423 | train_rmsle: 0.08162 | train_mae: 0.31836 | train_rmse: 0.39908 | train_mse: 0.15927 | valid_rmsle: 0.07949 | valid_mae: 0.31386 | valid_rmse: 0.39742 | valid_mse: 0.15794 |  0:00:15s\n",
      "epoch 3  | loss: 0.1217  | train_rmsle: 0.07834 | train_mae: 0.31244 | train_rmse: 0.37862 | train_mse: 0.14335 | valid_rmsle: 0.07629 | valid_mae: 0.30741 | valid_rmse: 0.37359 | valid_mse: 0.13957 |  0:00:20s\n",
      "epoch 4  | loss: 0.11921 | train_rmsle: 0.06601 | train_mae: 0.27641 | train_rmse: 0.35516 | train_mse: 0.12614 | valid_rmsle: 0.06612 | valid_mae: 0.2777  | valid_rmse: 0.35563 | valid_mse: 0.12648 |  0:00:25s\n",
      "epoch 5  | loss: 0.11575 | train_rmsle: 0.0678  | train_mae: 0.27921 | train_rmse: 0.35932 | train_mse: 0.12911 | valid_rmsle: 0.06685 | valid_mae: 0.27717 | valid_rmse: 0.35698 | valid_mse: 0.12744 |  0:00:30s\n",
      "epoch 6  | loss: 0.11511 | train_rmsle: 0.0565  | train_mae: 0.24565 | train_rmse: 0.33806 | train_mse: 0.11428 | valid_rmsle: 0.05519 | valid_mae: 0.24302 | valid_rmse: 0.33317 | valid_mse: 0.11101 |  0:00:34s\n",
      "epoch 7  | loss: 0.11195 | train_rmsle: 0.05929 | train_mae: 0.25547 | train_rmse: 0.33939 | train_mse: 0.11519 | valid_rmsle: 0.05776 | valid_mae: 0.25132 | valid_rmse: 0.33397 | valid_mse: 0.11153 |  0:00:39s\n",
      "epoch 8  | loss: 0.11017 | train_rmsle: 0.06085 | train_mae: 0.25203 | train_rmse: 0.3401  | train_mse: 0.11567 | valid_rmsle: 0.05989 | valid_mae: 0.24934 | valid_rmse: 0.33588 | valid_mse: 0.11282 |  0:00:44s\n",
      "epoch 9  | loss: 0.10994 | train_rmsle: 0.05676 | train_mae: 0.24746 | train_rmse: 0.33258 | train_mse: 0.11061 | valid_rmsle: 0.05565 | valid_mae: 0.2454  | valid_rmse: 0.32805 | valid_mse: 0.10762 |  0:00:49s\n",
      "epoch 10 | loss: 0.10671 | train_rmsle: 0.05496 | train_mae: 0.2335  | train_rmse: 0.3296  | train_mse: 0.10864 | valid_rmsle: 0.05343 | valid_mae: 0.22934 | valid_rmse: 0.32407 | valid_mse: 0.10502 |  0:00:54s\n",
      "epoch 11 | loss: 0.10632 | train_rmsle: 0.0537  | train_mae: 0.23127 | train_rmse: 0.32812 | train_mse: 0.10766 | valid_rmsle: 0.05258 | valid_mae: 0.2279  | valid_rmse: 0.3239  | valid_mse: 0.10491 |  0:00:59s\n",
      "epoch 12 | loss: 0.10596 | train_rmsle: 0.05224 | train_mae: 0.23171 | train_rmse: 0.33075 | train_mse: 0.1094  | valid_rmsle: 0.05084 | valid_mae: 0.2274  | valid_rmse: 0.32591 | valid_mse: 0.10622 |  0:01:04s\n",
      "epoch 13 | loss: 0.10549 | train_rmsle: 0.05201 | train_mae: 0.22166 | train_rmse: 0.32617 | train_mse: 0.10639 | valid_rmsle: 0.05066 | valid_mae: 0.21693 | valid_rmse: 0.32141 | valid_mse: 0.10331 |  0:01:08s\n",
      "epoch 14 | loss: 0.10498 | train_rmsle: 0.05254 | train_mae: 0.22512 | train_rmse: 0.32563 | train_mse: 0.10603 | valid_rmsle: 0.05114 | valid_mae: 0.22059 | valid_rmse: 0.32069 | valid_mse: 0.10284 |  0:01:13s\n",
      "epoch 15 | loss: 0.10451 | train_rmsle: 0.05141 | train_mae: 0.21649 | train_rmse: 0.32555 | train_mse: 0.10598 | valid_rmsle: 0.04996 | valid_mae: 0.21235 | valid_rmse: 0.32095 | valid_mse: 0.10301 |  0:01:18s\n",
      "epoch 16 | loss: 0.10404 | train_rmsle: 0.05168 | train_mae: 0.22033 | train_rmse: 0.32314 | train_mse: 0.10442 | valid_rmsle: 0.05015 | valid_mae: 0.21579 | valid_rmse: 0.31778 | valid_mse: 0.10098 |  0:01:23s\n",
      "epoch 17 | loss: 0.10347 | train_rmsle: 0.05034 | train_mae: 0.22042 | train_rmse: 0.32579 | train_mse: 0.10614 | valid_rmsle: 0.04922 | valid_mae: 0.21659 | valid_rmse: 0.32157 | valid_mse: 0.10341 |  0:01:28s\n",
      "epoch 18 | loss: 0.10423 | train_rmsle: 0.05064 | train_mae: 0.22161 | train_rmse: 0.32364 | train_mse: 0.10474 | valid_rmsle: 0.04996 | valid_mae: 0.21855 | valid_rmse: 0.32102 | valid_mse: 0.10305 |  0:01:33s\n",
      "epoch 19 | loss: 0.1023  | train_rmsle: 0.05206 | train_mae: 0.21543 | train_rmse: 0.32317 | train_mse: 0.10444 | valid_rmsle: 0.05038 | valid_mae: 0.21016 | valid_rmse: 0.3168  | valid_mse: 0.10037 |  0:01:37s\n",
      "epoch 20 | loss: 0.10222 | train_rmsle: 0.05042 | train_mae: 0.21727 | train_rmse: 0.32051 | train_mse: 0.10273 | valid_rmsle: 0.04884 | valid_mae: 0.21317 | valid_rmse: 0.31479 | valid_mse: 0.0991  |  0:01:42s\n",
      "epoch 21 | loss: 0.10151 | train_rmsle: 0.05186 | train_mae: 0.21986 | train_rmse: 0.32165 | train_mse: 0.10346 | valid_rmsle: 0.05038 | valid_mae: 0.21499 | valid_rmse: 0.31617 | valid_mse: 0.09996 |  0:01:47s\n",
      "epoch 22 | loss: 0.10159 | train_rmsle: 0.05025 | train_mae: 0.21651 | train_rmse: 0.31922 | train_mse: 0.1019  | valid_rmsle: 0.04935 | valid_mae: 0.21316 | valid_rmse: 0.31561 | valid_mse: 0.09961 |  0:01:52s\n",
      "epoch 23 | loss: 0.10174 | train_rmsle: 0.05105 | train_mae: 0.21729 | train_rmse: 0.32032 | train_mse: 0.1026  | valid_rmsle: 0.04983 | valid_mae: 0.21315 | valid_rmse: 0.31578 | valid_mse: 0.09971 |  0:01:57s\n",
      "epoch 24 | loss: 0.10155 | train_rmsle: 0.05142 | train_mae: 0.21844 | train_rmse: 0.32106 | train_mse: 0.10308 | valid_rmsle: 0.05015 | valid_mae: 0.21385 | valid_rmse: 0.31626 | valid_mse: 0.10002 |  0:02:02s\n",
      "epoch 25 | loss: 0.10162 | train_rmsle: 0.0493  | train_mae: 0.21576 | train_rmse: 0.31891 | train_mse: 0.1017  | valid_rmsle: 0.04865 | valid_mae: 0.213   | valid_rmse: 0.31607 | valid_mse: 0.0999  |  0:02:07s\n",
      "epoch 26 | loss: 0.10123 | train_rmsle: 0.0498  | train_mae: 0.21885 | train_rmse: 0.326   | train_mse: 0.10628 | valid_rmsle: 0.04894 | valid_mae: 0.21506 | valid_rmse: 0.32263 | valid_mse: 0.10409 |  0:02:12s\n",
      "epoch 27 | loss: 0.1013  | train_rmsle: 0.04989 | train_mae: 0.22205 | train_rmse: 0.31898 | train_mse: 0.10175 | valid_rmsle: 0.04912 | valid_mae: 0.21934 | valid_rmse: 0.31589 | valid_mse: 0.09978 |  0:02:16s\n",
      "epoch 28 | loss: 0.1005  | train_rmsle: 0.04893 | train_mae: 0.21444 | train_rmse: 0.31938 | train_mse: 0.102   | valid_rmsle: 0.04796 | valid_mae: 0.21152 | valid_rmse: 0.31568 | valid_mse: 0.09966 |  0:02:21s\n",
      "epoch 29 | loss: 0.09996 | train_rmsle: 0.05043 | train_mae: 0.21653 | train_rmse: 0.31747 | train_mse: 0.10078 | valid_rmsle: 0.05006 | valid_mae: 0.21425 | valid_rmse: 0.31541 | valid_mse: 0.09949 |  0:02:26s\n",
      "epoch 30 | loss: 0.10077 | train_rmsle: 0.04957 | train_mae: 0.21761 | train_rmse: 0.3213  | train_mse: 0.10323 | valid_rmsle: 0.04895 | valid_mae: 0.21567 | valid_rmse: 0.31872 | valid_mse: 0.10158 |  0:02:31s\n",
      "epoch 31 | loss: 0.10136 | train_rmsle: 0.05034 | train_mae: 0.21067 | train_rmse: 0.31764 | train_mse: 0.1009  | valid_rmsle: 0.04917 | valid_mae: 0.20723 | valid_rmse: 0.31308 | valid_mse: 0.09802 |  0:02:36s\n",
      "epoch 32 | loss: 0.09984 | train_rmsle: 0.0509  | train_mae: 0.21709 | train_rmse: 0.31911 | train_mse: 0.10183 | valid_rmsle: 0.04981 | valid_mae: 0.21342 | valid_rmse: 0.31486 | valid_mse: 0.09914 |  0:02:41s\n",
      "epoch 33 | loss: 0.09959 | train_rmsle: 0.04992 | train_mae: 0.21202 | train_rmse: 0.31754 | train_mse: 0.10083 | valid_rmsle: 0.04951 | valid_mae: 0.21059 | valid_rmse: 0.31522 | valid_mse: 0.09936 |  0:02:46s\n",
      "epoch 34 | loss: 0.1     | train_rmsle: 0.0482  | train_mae: 0.20773 | train_rmse: 0.3187  | train_mse: 0.10157 | valid_rmsle: 0.04734 | valid_mae: 0.20522 | valid_rmse: 0.31554 | valid_mse: 0.09957 |  0:02:51s\n",
      "epoch 35 | loss: 0.09895 | train_rmsle: 0.05112 | train_mae: 0.21709 | train_rmse: 0.31787 | train_mse: 0.10104 | valid_rmsle: 0.05057 | valid_mae: 0.21472 | valid_rmse: 0.31538 | valid_mse: 0.09947 |  0:02:55s\n",
      "epoch 36 | loss: 0.09855 | train_rmsle: 0.04865 | train_mae: 0.21069 | train_rmse: 0.31564 | train_mse: 0.09963 | valid_rmsle: 0.04809 | valid_mae: 0.20874 | valid_rmse: 0.31325 | valid_mse: 0.09813 |  0:03:00s\n",
      "epoch 37 | loss: 0.09819 | train_rmsle: 0.04921 | train_mae: 0.21377 | train_rmse: 0.31848 | train_mse: 0.10143 | valid_rmsle: 0.0488  | valid_mae: 0.21208 | valid_rmse: 0.3167  | valid_mse: 0.1003  |  0:03:05s\n",
      "epoch 38 | loss: 0.09901 | train_rmsle: 0.04833 | train_mae: 0.21018 | train_rmse: 0.31668 | train_mse: 0.10029 | valid_rmsle: 0.04826 | valid_mae: 0.20925 | valid_rmse: 0.31589 | valid_mse: 0.09979 |  0:03:10s\n"
     ]
    },
    {
     "name": "stdout",
     "output_type": "stream",
     "text": [
      "epoch 39 | loss: 0.09777 | train_rmsle: 0.04768 | train_mae: 0.20722 | train_rmse: 0.3159  | train_mse: 0.09979 | valid_rmsle: 0.0477  | valid_mae: 0.20655 | valid_rmse: 0.31543 | valid_mse: 0.0995  |  0:03:15s\n",
      "epoch 40 | loss: 0.09932 | train_rmsle: 0.04964 | train_mae: 0.2094  | train_rmse: 0.31496 | train_mse: 0.0992  | valid_rmsle: 0.0492  | valid_mae: 0.20748 | valid_rmse: 0.31269 | valid_mse: 0.09778 |  0:03:19s\n",
      "epoch 41 | loss: 0.09937 | train_rmsle: 0.04813 | train_mae: 0.212   | train_rmse: 0.31801 | train_mse: 0.10113 | valid_rmsle: 0.04764 | valid_mae: 0.21009 | valid_rmse: 0.31544 | valid_mse: 0.0995  |  0:03:24s\n",
      "epoch 42 | loss: 0.09837 | train_rmsle: 0.04765 | train_mae: 0.2079  | train_rmse: 0.3176  | train_mse: 0.10087 | valid_rmsle: 0.04732 | valid_mae: 0.20713 | valid_rmse: 0.31614 | valid_mse: 0.09994 |  0:03:29s\n",
      "epoch 43 | loss: 0.09765 | train_rmsle: 0.04989 | train_mae: 0.21008 | train_rmse: 0.31502 | train_mse: 0.09923 | valid_rmsle: 0.05006 | valid_mae: 0.20981 | valid_rmse: 0.31436 | valid_mse: 0.09882 |  0:03:34s\n",
      "epoch 44 | loss: 0.09776 | train_rmsle: 0.04756 | train_mae: 0.20792 | train_rmse: 0.31835 | train_mse: 0.10134 | valid_rmsle: 0.04763 | valid_mae: 0.2084  | valid_rmse: 0.3178  | valid_mse: 0.101   |  0:03:39s\n",
      "epoch 45 | loss: 0.09827 | train_rmsle: 0.04853 | train_mae: 0.21478 | train_rmse: 0.31578 | train_mse: 0.09972 | valid_rmsle: 0.0482  | valid_mae: 0.21409 | valid_rmse: 0.31388 | valid_mse: 0.09852 |  0:03:44s\n",
      "epoch 46 | loss: 0.09727 | train_rmsle: 0.04886 | train_mae: 0.20996 | train_rmse: 0.31407 | train_mse: 0.09864 | valid_rmsle: 0.04835 | valid_mae: 0.20831 | valid_rmse: 0.31148 | valid_mse: 0.09702 |  0:03:49s\n",
      "epoch 47 | loss: 0.09815 | train_rmsle: 0.04722 | train_mae: 0.2077  | train_rmse: 0.31599 | train_mse: 0.09985 | valid_rmsle: 0.04759 | valid_mae: 0.20886 | valid_rmse: 0.31657 | valid_mse: 0.10022 |  0:03:54s\n",
      "epoch 48 | loss: 0.09689 | train_rmsle: 0.04816 | train_mae: 0.21515 | train_rmse: 0.3184  | train_mse: 0.10138 | valid_rmsle: 0.04819 | valid_mae: 0.21469 | valid_rmse: 0.31783 | valid_mse: 0.10102 |  0:03:58s\n",
      "epoch 49 | loss: 0.09762 | train_rmsle: 0.04942 | train_mae: 0.22181 | train_rmse: 0.31516 | train_mse: 0.09933 | valid_rmsle: 0.04979 | valid_mae: 0.22224 | valid_rmse: 0.3154  | valid_mse: 0.09948 |  0:04:03s\n",
      "epoch 50 | loss: 0.09814 | train_rmsle: 0.05024 | train_mae: 0.21867 | train_rmse: 0.31516 | train_mse: 0.09932 | valid_rmsle: 0.05014 | valid_mae: 0.21742 | valid_rmse: 0.31398 | valid_mse: 0.09858 |  0:04:08s\n",
      "epoch 51 | loss: 0.09744 | train_rmsle: 0.04731 | train_mae: 0.21043 | train_rmse: 0.31536 | train_mse: 0.09945 | valid_rmsle: 0.04728 | valid_mae: 0.21009 | valid_rmse: 0.31471 | valid_mse: 0.09904 |  0:04:13s\n",
      "epoch 52 | loss: 0.09718 | train_rmsle: 0.04782 | train_mae: 0.20841 | train_rmse: 0.31162 | train_mse: 0.09711 | valid_rmsle: 0.04815 | valid_mae: 0.20872 | valid_rmse: 0.31204 | valid_mse: 0.09737 |  0:04:18s\n",
      "epoch 53 | loss: 0.09534 | train_rmsle: 0.04663 | train_mae: 0.20605 | train_rmse: 0.31456 | train_mse: 0.09895 | valid_rmsle: 0.04684 | valid_mae: 0.20663 | valid_rmse: 0.31459 | valid_mse: 0.09897 |  0:04:22s\n",
      "epoch 54 | loss: 0.09739 | train_rmsle: 0.04782 | train_mae: 0.2136  | train_rmse: 0.31887 | train_mse: 0.10168 | valid_rmsle: 0.04757 | valid_mae: 0.21243 | valid_rmse: 0.31716 | valid_mse: 0.10059 |  0:04:28s\n",
      "epoch 55 | loss: 0.09753 | train_rmsle: 0.04852 | train_mae: 0.21185 | train_rmse: 0.31289 | train_mse: 0.0979  | valid_rmsle: 0.04811 | valid_mae: 0.21044 | valid_rmse: 0.31084 | valid_mse: 0.09662 |  0:04:32s\n",
      "epoch 56 | loss: 0.09691 | train_rmsle: 0.04707 | train_mae: 0.20146 | train_rmse: 0.31856 | train_mse: 0.10148 | valid_rmsle: 0.04675 | valid_mae: 0.20094 | valid_rmse: 0.31718 | valid_mse: 0.1006  |  0:04:37s\n",
      "epoch 57 | loss: 0.09801 | train_rmsle: 0.04781 | train_mae: 0.20822 | train_rmse: 0.31509 | train_mse: 0.09928 | valid_rmsle: 0.04758 | valid_mae: 0.20673 | valid_rmse: 0.31339 | valid_mse: 0.09821 |  0:04:42s\n",
      "epoch 58 | loss: 0.09769 | train_rmsle: 0.04823 | train_mae: 0.2072  | train_rmse: 0.31437 | train_mse: 0.09883 | valid_rmsle: 0.04798 | valid_mae: 0.20632 | valid_rmse: 0.31244 | valid_mse: 0.09762 |  0:04:47s\n",
      "epoch 59 | loss: 0.0977  | train_rmsle: 0.04798 | train_mae: 0.20882 | train_rmse: 0.31516 | train_mse: 0.09933 | valid_rmsle: 0.04784 | valid_mae: 0.20755 | valid_rmse: 0.31389 | valid_mse: 0.09853 |  0:04:51s\n",
      "epoch 60 | loss: 0.09656 | train_rmsle: 0.04745 | train_mae: 0.20453 | train_rmse: 0.31304 | train_mse: 0.098   | valid_rmsle: 0.0472  | valid_mae: 0.20328 | valid_rmse: 0.31168 | valid_mse: 0.09714 |  0:04:56s\n",
      "epoch 61 | loss: 0.09664 | train_rmsle: 0.04764 | train_mae: 0.20771 | train_rmse: 0.31239 | train_mse: 0.09759 | valid_rmsle: 0.04775 | valid_mae: 0.20691 | valid_rmse: 0.31205 | valid_mse: 0.09738 |  0:05:01s\n",
      "epoch 62 | loss: 0.097   | train_rmsle: 0.04804 | train_mae: 0.20309 | train_rmse: 0.31222 | train_mse: 0.09748 | valid_rmsle: 0.04776 | valid_mae: 0.20144 | valid_rmse: 0.30977 | valid_mse: 0.09596 |  0:05:06s\n",
      "epoch 63 | loss: 0.09654 | train_rmsle: 0.04824 | train_mae: 0.21079 | train_rmse: 0.31611 | train_mse: 0.09993 | valid_rmsle: 0.04832 | valid_mae: 0.2094  | valid_rmse: 0.31563 | valid_mse: 0.09962 |  0:05:11s\n",
      "epoch 64 | loss: 0.09693 | train_rmsle: 0.04751 | train_mae: 0.20839 | train_rmse: 0.31227 | train_mse: 0.09751 | valid_rmsle: 0.04758 | valid_mae: 0.20779 | valid_rmse: 0.31156 | valid_mse: 0.09707 |  0:05:16s\n",
      "epoch 65 | loss: 0.09647 | train_rmsle: 0.04747 | train_mae: 0.20651 | train_rmse: 0.3109  | train_mse: 0.09666 | valid_rmsle: 0.04796 | valid_mae: 0.20668 | valid_rmse: 0.31187 | valid_mse: 0.09726 |  0:05:20s\n",
      "epoch 66 | loss: 0.09604 | train_rmsle: 0.0482  | train_mae: 0.2054  | train_rmse: 0.31413 | train_mse: 0.09867 | valid_rmsle: 0.04799 | valid_mae: 0.2043  | valid_rmse: 0.31277 | valid_mse: 0.09782 |  0:05:25s\n",
      "epoch 67 | loss: 0.09592 | train_rmsle: 0.04792 | train_mae: 0.20798 | train_rmse: 0.3152  | train_mse: 0.09935 | valid_rmsle: 0.04786 | valid_mae: 0.20784 | valid_rmse: 0.31429 | valid_mse: 0.09878 |  0:05:30s\n",
      "epoch 68 | loss: 0.0971  | train_rmsle: 0.04818 | train_mae: 0.20882 | train_rmse: 0.31113 | train_mse: 0.0968  | valid_rmsle: 0.0484  | valid_mae: 0.2092  | valid_rmse: 0.31118 | valid_mse: 0.09684 |  0:05:35s\n",
      "epoch 69 | loss: 0.09689 | train_rmsle: 0.04714 | train_mae: 0.19672 | train_rmse: 0.31009 | train_mse: 0.09616 | valid_rmsle: 0.04695 | valid_mae: 0.19549 | valid_rmse: 0.30863 | valid_mse: 0.09525 |  0:05:40s\n",
      "epoch 70 | loss: 0.09537 | train_rmsle: 0.04611 | train_mae: 0.20114 | train_rmse: 0.31037 | train_mse: 0.09633 | valid_rmsle: 0.04657 | valid_mae: 0.2013  | valid_rmse: 0.31124 | valid_mse: 0.09687 |  0:05:45s\n",
      "epoch 71 | loss: 0.09504 | train_rmsle: 0.04855 | train_mae: 0.20425 | train_rmse: 0.3108  | train_mse: 0.0966  | valid_rmsle: 0.04928 | valid_mae: 0.205   | valid_rmse: 0.3126  | valid_mse: 0.09772 |  0:05:49s\n",
      "epoch 72 | loss: 0.09553 | train_rmsle: 0.04702 | train_mae: 0.20325 | train_rmse: 0.31017 | train_mse: 0.0962  | valid_rmsle: 0.04748 | valid_mae: 0.20346 | valid_rmse: 0.31065 | valid_mse: 0.0965  |  0:05:54s\n",
      "epoch 73 | loss: 0.09582 | train_rmsle: 0.04717 | train_mae: 0.20189 | train_rmse: 0.31076 | train_mse: 0.09657 | valid_rmsle: 0.04808 | valid_mae: 0.20298 | valid_rmse: 0.31262 | valid_mse: 0.09773 |  0:05:59s\n",
      "epoch 74 | loss: 0.09628 | train_rmsle: 0.04675 | train_mae: 0.20818 | train_rmse: 0.31577 | train_mse: 0.09971 | valid_rmsle: 0.04714 | valid_mae: 0.20797 | valid_rmse: 0.31605 | valid_mse: 0.09989 |  0:06:04s\n",
      "epoch 75 | loss: 0.09599 | train_rmsle: 0.04816 | train_mae: 0.21275 | train_rmse: 0.31106 | train_mse: 0.09676 | valid_rmsle: 0.04886 | valid_mae: 0.21354 | valid_rmse: 0.31283 | valid_mse: 0.09786 |  0:06:09s\n",
      "epoch 76 | loss: 0.09563 | train_rmsle: 0.04718 | train_mae: 0.20859 | train_rmse: 0.31041 | train_mse: 0.09635 | valid_rmsle: 0.04759 | valid_mae: 0.20884 | valid_rmse: 0.31138 | valid_mse: 0.09696 |  0:06:14s\n",
      "epoch 77 | loss: 0.09507 | train_rmsle: 0.04692 | train_mae: 0.19687 | train_rmse: 0.30852 | train_mse: 0.09519 | valid_rmsle: 0.04747 | valid_mae: 0.19759 | valid_rmse: 0.30937 | valid_mse: 0.09571 |  0:06:19s\n"
     ]
    },
    {
     "name": "stdout",
     "output_type": "stream",
     "text": [
      "epoch 78 | loss: 0.09524 | train_rmsle: 0.04569 | train_mae: 0.20046 | train_rmse: 0.31215 | train_mse: 0.09744 | valid_rmsle: 0.04602 | valid_mae: 0.20018 | valid_rmse: 0.31225 | valid_mse: 0.0975  |  0:06:24s\n",
      "epoch 79 | loss: 0.09559 | train_rmsle: 0.048   | train_mae: 0.20421 | train_rmse: 0.30869 | train_mse: 0.09529 | valid_rmsle: 0.04889 | valid_mae: 0.2049  | valid_rmse: 0.31106 | valid_mse: 0.09676 |  0:06:28s\n",
      "epoch 80 | loss: 0.09458 | train_rmsle: 0.0477  | train_mae: 0.19866 | train_rmse: 0.30882 | train_mse: 0.09537 | valid_rmsle: 0.04836 | valid_mae: 0.19823 | valid_rmse: 0.31057 | valid_mse: 0.09646 |  0:06:33s\n",
      "epoch 81 | loss: 0.095   | train_rmsle: 0.04733 | train_mae: 0.20612 | train_rmse: 0.31091 | train_mse: 0.09666 | valid_rmsle: 0.04762 | valid_mae: 0.20524 | valid_rmse: 0.31117 | valid_mse: 0.09683 |  0:06:38s\n",
      "epoch 82 | loss: 0.09442 | train_rmsle: 0.04611 | train_mae: 0.19845 | train_rmse: 0.30914 | train_mse: 0.09557 | valid_rmsle: 0.04685 | valid_mae: 0.19911 | valid_rmse: 0.31084 | valid_mse: 0.09662 |  0:06:43s\n",
      "epoch 83 | loss: 0.09625 | train_rmsle: 0.04612 | train_mae: 0.20104 | train_rmse: 0.30794 | train_mse: 0.09483 | valid_rmsle: 0.04686 | valid_mae: 0.20153 | valid_rmse: 0.3094  | valid_mse: 0.09573 |  0:06:48s\n",
      "epoch 84 | loss: 0.09509 | train_rmsle: 0.04606 | train_mae: 0.1979  | train_rmse: 0.31042 | train_mse: 0.09636 | valid_rmsle: 0.04629 | valid_mae: 0.19664 | valid_rmse: 0.3102  | valid_mse: 0.09623 |  0:06:52s\n",
      "epoch 85 | loss: 0.09427 | train_rmsle: 0.04546 | train_mae: 0.19996 | train_rmse: 0.31028 | train_mse: 0.09627 | valid_rmsle: 0.04631 | valid_mae: 0.20117 | valid_rmse: 0.3125  | valid_mse: 0.09766 |  0:06:57s\n",
      "epoch 86 | loss: 0.09562 | train_rmsle: 0.04641 | train_mae: 0.20207 | train_rmse: 0.30803 | train_mse: 0.09488 | valid_rmsle: 0.04718 | valid_mae: 0.20246 | valid_rmse: 0.30984 | valid_mse: 0.096   |  0:07:02s\n",
      "epoch 87 | loss: 0.09407 | train_rmsle: 0.04567 | train_mae: 0.20179 | train_rmse: 0.30804 | train_mse: 0.09489 | valid_rmsle: 0.04672 | valid_mae: 0.2027  | valid_rmse: 0.31053 | valid_mse: 0.09643 |  0:07:06s\n",
      "epoch 88 | loss: 0.09553 | train_rmsle: 0.0465  | train_mae: 0.20259 | train_rmse: 0.31316 | train_mse: 0.09807 | valid_rmsle: 0.04713 | valid_mae: 0.20216 | valid_rmse: 0.31406 | valid_mse: 0.09863 |  0:07:11s\n",
      "epoch 89 | loss: 0.09713 | train_rmsle: 0.04789 | train_mae: 0.20464 | train_rmse: 0.31325 | train_mse: 0.09813 | valid_rmsle: 0.0483  | valid_mae: 0.2028  | valid_rmse: 0.31333 | valid_mse: 0.09817 |  0:07:16s\n",
      "epoch 90 | loss: 0.09558 | train_rmsle: 0.04609 | train_mae: 0.2056  | train_rmse: 0.31051 | train_mse: 0.09641 | valid_rmsle: 0.04688 | valid_mae: 0.20606 | valid_rmse: 0.31242 | valid_mse: 0.09761 |  0:07:20s\n",
      "epoch 91 | loss: 0.09621 | train_rmsle: 0.04674 | train_mae: 0.20249 | train_rmse: 0.31352 | train_mse: 0.0983  | valid_rmsle: 0.04707 | valid_mae: 0.20175 | valid_rmse: 0.31403 | valid_mse: 0.09862 |  0:07:25s\n",
      "epoch 92 | loss: 0.09737 | train_rmsle: 0.04896 | train_mae: 0.2088  | train_rmse: 0.31237 | train_mse: 0.09758 | valid_rmsle: 0.04892 | valid_mae: 0.20674 | valid_rmse: 0.3113  | valid_mse: 0.09691 |  0:07:30s\n",
      "epoch 93 | loss: 0.09685 | train_rmsle: 0.04826 | train_mae: 0.20643 | train_rmse: 0.3109  | train_mse: 0.09666 | valid_rmsle: 0.04881 | valid_mae: 0.20541 | valid_rmse: 0.31189 | valid_mse: 0.09728 |  0:07:34s\n",
      "epoch 94 | loss: 0.0951  | train_rmsle: 0.04749 | train_mae: 0.20384 | train_rmse: 0.30989 | train_mse: 0.09603 | valid_rmsle: 0.04826 | valid_mae: 0.20368 | valid_rmse: 0.31148 | valid_mse: 0.09702 |  0:07:39s\n",
      "epoch 95 | loss: 0.09534 | train_rmsle: 0.04618 | train_mae: 0.19934 | train_rmse: 0.31261 | train_mse: 0.09773 | valid_rmsle: 0.04642 | valid_mae: 0.19849 | valid_rmse: 0.31242 | valid_mse: 0.09761 |  0:07:44s\n",
      "epoch 96 | loss: 0.09707 | train_rmsle: 0.0467  | train_mae: 0.20393 | train_rmse: 0.31675 | train_mse: 0.10033 | valid_rmsle: 0.04724 | valid_mae: 0.20372 | valid_rmse: 0.31727 | valid_mse: 0.10066 |  0:07:48s\n",
      "epoch 97 | loss: 0.09629 | train_rmsle: 0.04827 | train_mae: 0.20893 | train_rmse: 0.31648 | train_mse: 0.10016 | valid_rmsle: 0.04851 | valid_mae: 0.20759 | valid_rmse: 0.31621 | valid_mse: 0.09999 |  0:07:53s\n",
      "epoch 98 | loss: 0.09628 | train_rmsle: 0.04664 | train_mae: 0.20111 | train_rmse: 0.31395 | train_mse: 0.09856 | valid_rmsle: 0.04751 | valid_mae: 0.20086 | valid_rmse: 0.316   | valid_mse: 0.09985 |  0:07:58s\n",
      "epoch 99 | loss: 0.09586 | train_rmsle: 0.04677 | train_mae: 0.20153 | train_rmse: 0.3092  | train_mse: 0.09561 | valid_rmsle: 0.04764 | valid_mae: 0.20206 | valid_rmse: 0.31127 | valid_mse: 0.09689 |  0:08:03s\n",
      "Stop training because you reached max_epochs = 100 with best_epoch = 69 and best_valid_mse = 0.09525\n"
     ]
    },
    {
     "name": "stderr",
     "output_type": "stream",
     "text": [
      "C:\\Users\\ashik.emon\\AppData\\Local\\anaconda3\\lib\\site-packages\\pytorch_tabnet\\callbacks.py:172: UserWarning: Best weights from best epoch are automatically used!\n",
      "  warnings.warn(wrn_msg)\n"
     ]
    }
   ],
   "source": [
    "clf.fit(\n",
    "    X_train=X_train, y_train=y_train,\n",
    "    eval_set=[(X_train, y_train), (X_valid, y_valid)],\n",
    "    eval_name=['train', 'valid'],\n",
    "    eval_metric=['rmsle', 'mae', 'rmse', 'mse'],\n",
    "    max_epochs=max_epochs,\n",
    "    patience=50,\n",
    "    batch_size=1024, virtual_batch_size=128,\n",
    "    num_workers=0,\n",
    "    drop_last=False,\n",
    "    augmentations=aug, #aug\n",
    ") "
   ]
  },
  {
   "cell_type": "code",
   "execution_count": 28,
   "id": "214031ae",
   "metadata": {},
   "outputs": [],
   "source": [
    "from sklearn.metrics import mean_squared_error\n"
   ]
  },
  {
   "cell_type": "code",
   "execution_count": 29,
   "id": "ac0e6047",
   "metadata": {},
   "outputs": [
    {
     "name": "stdout",
     "output_type": "stream",
     "text": [
      "BEST VALID SCORE FOR census-income : 0.0952518536646394\n",
      "FINAL TEST SCORE FOR census-income : 0.0984285323548618\n"
     ]
    }
   ],
   "source": [
    "# Deprecated : best model is automatically loaded at end of fit\n",
    "# clf.load_best_model()\n",
    "\n",
    "preds = clf.predict(X_test)\n",
    "\n",
    "y_true = y_test\n",
    "\n",
    "test_score = mean_squared_error(y_pred=preds, y_true=y_true)\n",
    "\n",
    "print(f\"BEST VALID SCORE FOR {dataset_name} : {clf.best_cost}\")\n",
    "print(f\"FINAL TEST SCORE FOR {dataset_name} : {test_score}\")\n",
    "\n"
   ]
  },
  {
   "cell_type": "code",
   "execution_count": 30,
   "id": "7e888b78",
   "metadata": {},
   "outputs": [
    {
     "name": "stdout",
     "output_type": "stream",
     "text": [
      "Successfully saved model at ./tabnet_model_test_1.zip\n"
     ]
    }
   ],
   "source": [
    "# save tabnet model\n",
    "saving_path_name = \"./tabnet_model_test_1\"\n",
    "saved_filepath = clf.save_model(saving_path_name)\n",
    "\n"
   ]
  },
  {
   "cell_type": "code",
   "execution_count": 31,
   "id": "9859b99f",
   "metadata": {},
   "outputs": [
    {
     "name": "stderr",
     "output_type": "stream",
     "text": [
      "C:\\Users\\ashik.emon\\AppData\\Local\\anaconda3\\lib\\site-packages\\pytorch_tabnet\\abstract_model.py:75: UserWarning: Device used : cpu\n",
      "  warnings.warn(f\"Device used : {self.device}\")\n"
     ]
    }
   ],
   "source": [
    "# define new model with basic parameters and load state dict weights\n",
    "loaded_clf = TabNetRegressor()\n",
    "loaded_clf.load_model(saved_filepath)"
   ]
  },
  {
   "cell_type": "code",
   "execution_count": 32,
   "id": "e04dc4aa",
   "metadata": {},
   "outputs": [
    {
     "name": "stdout",
     "output_type": "stream",
     "text": [
      "FINAL TEST SCORE FOR census-income : 0.0984285323548618\n"
     ]
    }
   ],
   "source": [
    "loaded_preds = loaded_clf.predict(X_test)\n",
    "loaded_test_mse = mean_squared_error(loaded_preds, y_test)\n",
    "\n",
    "print(f\"FINAL TEST SCORE FOR {dataset_name} : {loaded_test_mse}\")"
   ]
  },
  {
   "cell_type": "code",
   "execution_count": 35,
   "id": "13898adc",
   "metadata": {},
   "outputs": [],
   "source": [
    "assert(test_score == loaded_test_mse)"
   ]
  },
  {
   "cell_type": "code",
   "execution_count": 36,
   "id": "57d254b0",
   "metadata": {},
   "outputs": [
    {
     "data": {
      "text/plain": [
       "array([1.01372286e-01, 1.42847258e-02, 1.65239765e-05, 4.80693064e-02,\n",
       "       3.93596423e-02, 6.63457265e-02, 3.46283070e-01, 6.21438897e-04,\n",
       "       1.55885192e-02, 1.22489142e-02, 2.68846062e-01, 1.56294216e-05,\n",
       "       6.44129950e-02, 2.25351605e-02])"
      ]
     },
     "execution_count": 36,
     "metadata": {},
     "output_type": "execute_result"
    }
   ],
   "source": [
    "clf.feature_importances_"
   ]
  },
  {
   "cell_type": "code",
   "execution_count": 37,
   "id": "3b69ccfa",
   "metadata": {},
   "outputs": [],
   "source": [
    "explain_matrix, masks = clf.explain(X_test)"
   ]
  },
  {
   "cell_type": "code",
   "execution_count": 39,
   "id": "c4b7fef1",
   "metadata": {},
   "outputs": [],
   "source": [
    "from matplotlib import pyplot as plt\n",
    "%matplotlib inline"
   ]
  },
  {
   "cell_type": "code",
   "execution_count": 40,
   "id": "84fafa02",
   "metadata": {},
   "outputs": [
    {
     "data": {
      "image/png": "[encoded data removed]",
      "text/plain": [
       "<Figure size 2000x2000 with 3 Axes>"
      ]
     },
     "metadata": {},
     "output_type": "display_data"
    }
   ],
   "source": [
    "fig, axs = plt.subplots(1, 3, figsize=(20,20))\n",
    "\n",
    "for i in range(3):\n",
    "    axs[i].imshow(masks[i][:50])\n",
    "    axs[i].set_title(f\"mask {i}\")"
   ]
  },
  {
   "cell_type": "markdown",
   "id": "abca7c89",
   "metadata": {},
   "source": [
    "# XGB"
   ]
  },
  {
   "cell_type": "code",
   "execution_count": 46,
   "id": "3ad572c0",
   "metadata": {},
   "outputs": [
    {
     "name": "stdout",
     "output_type": "stream",
     "text": [
      "[0]\tvalidation_0-rmse:0.46992\n"
     ]
    },
    {
     "name": "stderr",
     "output_type": "stream",
     "text": [
      "C:\\Users\\ashik.emon\\AppData\\Local\\anaconda3\\lib\\site-packages\\xgboost\\sklearn.py:835: UserWarning: `early_stopping_rounds` in `fit` method is deprecated for better compatibility with scikit-learn, use `early_stopping_rounds` in constructor or`set_params` instead.\n",
      "  warnings.warn(\n"
     ]
    },
    {
     "name": "stdout",
     "output_type": "stream",
     "text": [
      "[10]\tvalidation_0-rmse:0.33056\n",
      "[20]\tvalidation_0-rmse:0.30274\n",
      "[30]\tvalidation_0-rmse:0.29676\n",
      "[40]\tvalidation_0-rmse:0.29514\n",
      "[50]\tvalidation_0-rmse:0.29520\n",
      "[60]\tvalidation_0-rmse:0.29497\n",
      "[70]\tvalidation_0-rmse:0.29518\n",
      "[80]\tvalidation_0-rmse:0.29521\n",
      "[90]\tvalidation_0-rmse:0.29574\n",
      "[100]\tvalidation_0-rmse:0.29599\n",
      "[101]\tvalidation_0-rmse:0.29598\n"
     ]
    },
    {
     "data": {
      "text/html": [
       "<style>#sk-container-id-1 {color: black;background-color: white;}#sk-container-id-1 pre{padding: 0;}#sk-container-id-1 div.sk-toggleable {background-color: white;}#sk-container-id-1 label.sk-toggleable__label {cursor: pointer;display: block;width: 100%;margin-bottom: 0;padding: 0.3em;box-sizing: border-box;text-align: center;}#sk-container-id-1 label.sk-toggleable__label-arrow:before {content: \"▸\";float: left;margin-right: 0.25em;color: #696969;}#sk-container-id-1 label.sk-toggleable__label-arrow:hover:before {color: black;}#sk-container-id-1 div.sk-estimator:hover label.sk-toggleable__label-arrow:before {color: black;}#sk-container-id-1 div.sk-toggleable__content {max-height: 0;max-width: 0;overflow: hidden;text-align: left;background-color: #f0f8ff;}#sk-container-id-1 div.sk-toggleable__content pre {margin: 0.2em;color: black;border-radius: 0.25em;background-color: #f0f8ff;}#sk-container-id-1 input.sk-toggleable__control:checked~div.sk-toggleable__content {max-height: 200px;max-width: 100%;overflow: auto;}#sk-container-id-1 input.sk-toggleable__control:checked~label.sk-toggleable__label-arrow:before {content: \"▾\";}#sk-container-id-1 div.sk-estimator input.sk-toggleable__control:checked~label.sk-toggleable__label {background-color: #d4ebff;}#sk-container-id-1 div.sk-label input.sk-toggleable__control:checked~label.sk-toggleable__label {background-color: #d4ebff;}#sk-container-id-1 input.sk-hidden--visually {border: 0;clip: rect(1px 1px 1px 1px);clip: rect(1px, 1px, 1px, 1px);height: 1px;margin: -1px;overflow: hidden;padding: 0;position: absolute;width: 1px;}#sk-container-id-1 div.sk-estimator {font-family: monospace;background-color: #f0f8ff;border: 1px dotted black;border-radius: 0.25em;box-sizing: border-box;margin-bottom: 0.5em;}#sk-container-id-1 div.sk-estimator:hover {background-color: #d4ebff;}#sk-container-id-1 div.sk-parallel-item::after {content: \"\";width: 100%;border-bottom: 1px solid gray;flex-grow: 1;}#sk-container-id-1 div.sk-label:hover label.sk-toggleable__label {background-color: #d4ebff;}#sk-container-id-1 div.sk-serial::before {content: \"\";position: absolute;border-left: 1px solid gray;box-sizing: border-box;top: 0;bottom: 0;left: 50%;z-index: 0;}#sk-container-id-1 div.sk-serial {display: flex;flex-direction: column;align-items: center;background-color: white;padding-right: 0.2em;padding-left: 0.2em;position: relative;}#sk-container-id-1 div.sk-item {position: relative;z-index: 1;}#sk-container-id-1 div.sk-parallel {display: flex;align-items: stretch;justify-content: center;background-color: white;position: relative;}#sk-container-id-1 div.sk-item::before, #sk-container-id-1 div.sk-parallel-item::before {content: \"\";position: absolute;border-left: 1px solid gray;box-sizing: border-box;top: 0;bottom: 0;left: 50%;z-index: -1;}#sk-container-id-1 div.sk-parallel-item {display: flex;flex-direction: column;z-index: 1;position: relative;background-color: white;}#sk-container-id-1 div.sk-parallel-item:first-child::after {align-self: flex-end;width: 50%;}#sk-container-id-1 div.sk-parallel-item:last-child::after {align-self: flex-start;width: 50%;}#sk-container-id-1 div.sk-parallel-item:only-child::after {width: 0;}#sk-container-id-1 div.sk-dashed-wrapped {border: 1px dashed gray;margin: 0 0.4em 0.5em 0.4em;box-sizing: border-box;padding-bottom: 0.4em;background-color: white;}#sk-container-id-1 div.sk-label label {font-family: monospace;font-weight: bold;display: inline-block;line-height: 1.2em;}#sk-container-id-1 div.sk-label-container {text-align: center;}#sk-container-id-1 div.sk-container {/* jupyter's `normalize.less` sets `[hidden] { display: none; }` but bootstrap.min.css set `[hidden] { display: none !important; }` so we also need the `!important` here to be able to override the default hidden behavior on the sphinx rendered scikit-learn.org. See: https://github.com/scikit-learn/scikit-learn/issues/21755 */display: inline-block !important;position: relative;}#sk-container-id-1 div.sk-text-repr-fallback {display: none;}</style><div id=\"sk-container-id-1\" class=\"sk-top-container\"><div class=\"sk-text-repr-fallback\"><pre>XGBRegressor(base_score=0.5, booster=&#x27;gbtree&#x27;, callbacks=None,\n",
       "             colsample_bylevel=1, colsample_bynode=1, colsample_bytree=1,\n",
       "             early_stopping_rounds=None, enable_categorical=False,\n",
       "             eval_metric=None, feature_types=None, gamma=0, gpu_id=None,\n",
       "             grow_policy=None, importance_type=None,\n",
       "             interaction_constraints=None, learning_rate=0.1, max_bin=None,\n",
       "             max_cat_threshold=None, max_cat_to_onehot=None, max_delta_step=0,\n",
       "             max_depth=8, max_leaves=None, min_child_weight=1, missing=nan,\n",
       "             monotone_constraints=None, n_estimators=1000, n_jobs=-1,\n",
       "             nthread=None, num_parallel_tree=None, objective=&#x27;reg:linear&#x27;, ...)</pre><b>In a Jupyter environment, please rerun this cell to show the HTML representation or trust the notebook. <br />On GitHub, the HTML representation is unable to render, please try loading this page with nbviewer.org.</b></div><div class=\"sk-container\" hidden><div class=\"sk-item\"><div class=\"sk-estimator sk-toggleable\"><input class=\"sk-toggleable__control sk-hidden--visually\" id=\"sk-estimator-id-1\" type=\"checkbox\" checked><label for=\"sk-estimator-id-1\" class=\"sk-toggleable__label sk-toggleable__label-arrow\">XGBRegressor</label><div class=\"sk-toggleable__content\"><pre>XGBRegressor(base_score=0.5, booster=&#x27;gbtree&#x27;, callbacks=None,\n",
       "             colsample_bylevel=1, colsample_bynode=1, colsample_bytree=1,\n",
       "             early_stopping_rounds=None, enable_categorical=False,\n",
       "             eval_metric=None, feature_types=None, gamma=0, gpu_id=None,\n",
       "             grow_policy=None, importance_type=None,\n",
       "             interaction_constraints=None, learning_rate=0.1, max_bin=None,\n",
       "             max_cat_threshold=None, max_cat_to_onehot=None, max_delta_step=0,\n",
       "             max_depth=8, max_leaves=None, min_child_weight=1, missing=nan,\n",
       "             monotone_constraints=None, n_estimators=1000, n_jobs=-1,\n",
       "             nthread=None, num_parallel_tree=None, objective=&#x27;reg:linear&#x27;, ...)</pre></div></div></div></div></div>"
      ],
      "text/plain": [
       "XGBRegressor(base_score=0.5, booster='gbtree', callbacks=None,\n",
       "             colsample_bylevel=1, colsample_bynode=1, colsample_bytree=1,\n",
       "             early_stopping_rounds=None, enable_categorical=False,\n",
       "             eval_metric=None, feature_types=None, gamma=0, gpu_id=None,\n",
       "             grow_policy=None, importance_type=None,\n",
       "             interaction_constraints=None, learning_rate=0.1, max_bin=None,\n",
       "             max_cat_threshold=None, max_cat_to_onehot=None, max_delta_step=0,\n",
       "             max_depth=8, max_leaves=None, min_child_weight=1, missing=nan,\n",
       "             monotone_constraints=None, n_estimators=1000, n_jobs=-1,\n",
       "             nthread=None, num_parallel_tree=None, objective='reg:linear', ...)"
      ]
     },
     "execution_count": 46,
     "metadata": {},
     "output_type": "execute_result"
    }
   ],
   "source": [
    "from xgboost import XGBRegressor\n",
    "\n",
    "clf_xgb = XGBRegressor(max_depth=8,\n",
    "    learning_rate=0.1,\n",
    "    n_estimators=1000,\n",
    "    verbosity=0,\n",
    "    silent=None,\n",
    "    objective='reg:linear',\n",
    "    booster='gbtree',\n",
    "    n_jobs=-1,\n",
    "    nthread=None,\n",
    "    gamma=0,\n",
    "    min_child_weight=1,\n",
    "    max_delta_step=0,\n",
    "    subsample=0.7,\n",
    "    colsample_bytree=1,\n",
    "    colsample_bylevel=1,\n",
    "    colsample_bynode=1,\n",
    "    reg_alpha=0,\n",
    "    reg_lambda=1,\n",
    "    scale_pos_weight=1,\n",
    "    base_score=0.5,\n",
    "    random_state=0,\n",
    "    seed=None,)\n",
    "\n",
    "clf_xgb.fit(X_train, y_train,\n",
    "        eval_set=[(X_valid, y_valid)],\n",
    "        early_stopping_rounds=40,\n",
    "        verbose=10)"
   ]
  },
  {
   "cell_type": "code",
   "execution_count": 47,
   "id": "2dc2f21b",
   "metadata": {},
   "outputs": [
    {
     "name": "stdout",
     "output_type": "stream",
     "text": [
      "0.08693414488964239\n",
      "0.09148941118733249\n"
     ]
    }
   ],
   "source": [
    "preds = np.array(clf_xgb.predict(X_valid))\n",
    "valid_auc = mean_squared_error(y_pred=preds, y_true=y_valid)\n",
    "print(valid_auc)\n",
    "\n",
    "preds = np.array(clf_xgb.predict(X_test))\n",
    "test_auc = mean_squared_error(y_pred=preds, y_true=y_test)\n",
    "print(test_auc)"
   ]
  },
  {
   "cell_type": "code",
   "execution_count": null,
   "id": "45f8e196",
   "metadata": {},
   "outputs": [],
   "source": []
  }
 ],
 "metadata": {
  "kernelspec": {
   "display_name": "Python 3 (ipykernel)",
   "language": "python",
   "name": "python3"
  },
  "language_info": {
   "codemirror_mode": {
    "name": "ipython",
    "version": 3
   },
   "file_extension": ".py",
   "mimetype": "text/x-python",
   "name": "python",
   "nbconvert_exporter": "python",
   "pygments_lexer": "ipython3",
   "version": "3.10.9"
  }
 },
 "nbformat": 4,
 "nbformat_minor": 5
}
